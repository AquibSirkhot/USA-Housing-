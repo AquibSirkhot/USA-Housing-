{
 "cells": [
  {
   "cell_type": "code",
   "execution_count": 1,
   "id": "55671998",
   "metadata": {},
   "outputs": [],
   "source": [
    "import numpy as np\n",
    "import pandas as pd\n",
    "import matplotlib.pyplot as plt\n",
    "import seaborn as sns\n",
    "\n",
    "import warnings\n",
    "warnings.filterwarnings(\"ignore\")"
   ]
  },
  {
   "cell_type": "code",
   "execution_count": 2,
   "id": "114e6926",
   "metadata": {},
   "outputs": [
    {
     "data": {
      "text/html": [
       "<div>\n",
       "<style scoped>\n",
       "    .dataframe tbody tr th:only-of-type {\n",
       "        vertical-align: middle;\n",
       "    }\n",
       "\n",
       "    .dataframe tbody tr th {\n",
       "        vertical-align: top;\n",
       "    }\n",
       "\n",
       "    .dataframe thead th {\n",
       "        text-align: right;\n",
       "    }\n",
       "</style>\n",
       "<table border=\"1\" class=\"dataframe\">\n",
       "  <thead>\n",
       "    <tr style=\"text-align: right;\">\n",
       "      <th></th>\n",
       "      <th>Avg. Area Income</th>\n",
       "      <th>Avg. Area House Age</th>\n",
       "      <th>Avg. Area Number of Rooms</th>\n",
       "      <th>Avg. Area Number of Bedrooms</th>\n",
       "      <th>Area Population</th>\n",
       "      <th>Price</th>\n",
       "      <th>Address</th>\n",
       "    </tr>\n",
       "  </thead>\n",
       "  <tbody>\n",
       "    <tr>\n",
       "      <th>0</th>\n",
       "      <td>79545.458574</td>\n",
       "      <td>5.682861</td>\n",
       "      <td>7.009188</td>\n",
       "      <td>4.09</td>\n",
       "      <td>23086.800503</td>\n",
       "      <td>1.059034e+06</td>\n",
       "      <td>208 Michael Ferry Apt. 674\\nLaurabury, NE 3701...</td>\n",
       "    </tr>\n",
       "    <tr>\n",
       "      <th>1</th>\n",
       "      <td>79248.642455</td>\n",
       "      <td>6.002900</td>\n",
       "      <td>6.730821</td>\n",
       "      <td>3.09</td>\n",
       "      <td>40173.072174</td>\n",
       "      <td>1.505891e+06</td>\n",
       "      <td>188 Johnson Views Suite 079\\nLake Kathleen, CA...</td>\n",
       "    </tr>\n",
       "    <tr>\n",
       "      <th>2</th>\n",
       "      <td>61287.067179</td>\n",
       "      <td>5.865890</td>\n",
       "      <td>8.512727</td>\n",
       "      <td>5.13</td>\n",
       "      <td>36882.159400</td>\n",
       "      <td>1.058988e+06</td>\n",
       "      <td>9127 Elizabeth Stravenue\\nDanieltown, WI 06482...</td>\n",
       "    </tr>\n",
       "    <tr>\n",
       "      <th>3</th>\n",
       "      <td>63345.240046</td>\n",
       "      <td>7.188236</td>\n",
       "      <td>5.586729</td>\n",
       "      <td>3.26</td>\n",
       "      <td>34310.242831</td>\n",
       "      <td>1.260617e+06</td>\n",
       "      <td>USS Barnett\\nFPO AP 44820</td>\n",
       "    </tr>\n",
       "    <tr>\n",
       "      <th>4</th>\n",
       "      <td>59982.197226</td>\n",
       "      <td>5.040555</td>\n",
       "      <td>7.839388</td>\n",
       "      <td>4.23</td>\n",
       "      <td>26354.109472</td>\n",
       "      <td>6.309435e+05</td>\n",
       "      <td>USNS Raymond\\nFPO AE 09386</td>\n",
       "    </tr>\n",
       "  </tbody>\n",
       "</table>\n",
       "</div>"
      ],
      "text/plain": [
       "   Avg. Area Income  Avg. Area House Age  Avg. Area Number of Rooms  \\\n",
       "0      79545.458574             5.682861                   7.009188   \n",
       "1      79248.642455             6.002900                   6.730821   \n",
       "2      61287.067179             5.865890                   8.512727   \n",
       "3      63345.240046             7.188236                   5.586729   \n",
       "4      59982.197226             5.040555                   7.839388   \n",
       "\n",
       "   Avg. Area Number of Bedrooms  Area Population         Price  \\\n",
       "0                          4.09     23086.800503  1.059034e+06   \n",
       "1                          3.09     40173.072174  1.505891e+06   \n",
       "2                          5.13     36882.159400  1.058988e+06   \n",
       "3                          3.26     34310.242831  1.260617e+06   \n",
       "4                          4.23     26354.109472  6.309435e+05   \n",
       "\n",
       "                                             Address  \n",
       "0  208 Michael Ferry Apt. 674\\nLaurabury, NE 3701...  \n",
       "1  188 Johnson Views Suite 079\\nLake Kathleen, CA...  \n",
       "2  9127 Elizabeth Stravenue\\nDanieltown, WI 06482...  \n",
       "3                          USS Barnett\\nFPO AP 44820  \n",
       "4                         USNS Raymond\\nFPO AE 09386  "
      ]
     },
     "execution_count": 2,
     "metadata": {},
     "output_type": "execute_result"
    }
   ],
   "source": [
    "df = pd.read_csv(\"USA_Housing.csv\")\n",
    "df.head()"
   ]
  },
  {
   "cell_type": "code",
   "execution_count": 3,
   "id": "13404fad",
   "metadata": {},
   "outputs": [
    {
     "name": "stdout",
     "output_type": "stream",
     "text": [
      "<class 'pandas.core.frame.DataFrame'>\n",
      "RangeIndex: 5000 entries, 0 to 4999\n",
      "Data columns (total 7 columns):\n",
      " #   Column                        Non-Null Count  Dtype  \n",
      "---  ------                        --------------  -----  \n",
      " 0   Avg. Area Income              5000 non-null   float64\n",
      " 1   Avg. Area House Age           5000 non-null   float64\n",
      " 2   Avg. Area Number of Rooms     5000 non-null   float64\n",
      " 3   Avg. Area Number of Bedrooms  5000 non-null   float64\n",
      " 4   Area Population               5000 non-null   float64\n",
      " 5   Price                         5000 non-null   float64\n",
      " 6   Address                       5000 non-null   object \n",
      "dtypes: float64(6), object(1)\n",
      "memory usage: 273.6+ KB\n"
     ]
    }
   ],
   "source": [
    "df.info()"
   ]
  },
  {
   "cell_type": "code",
   "execution_count": 4,
   "id": "27ae236d",
   "metadata": {},
   "outputs": [
    {
     "data": {
      "text/html": [
       "<div>\n",
       "<style scoped>\n",
       "    .dataframe tbody tr th:only-of-type {\n",
       "        vertical-align: middle;\n",
       "    }\n",
       "\n",
       "    .dataframe tbody tr th {\n",
       "        vertical-align: top;\n",
       "    }\n",
       "\n",
       "    .dataframe thead th {\n",
       "        text-align: right;\n",
       "    }\n",
       "</style>\n",
       "<table border=\"1\" class=\"dataframe\">\n",
       "  <thead>\n",
       "    <tr style=\"text-align: right;\">\n",
       "      <th></th>\n",
       "      <th>Avg. Area Income</th>\n",
       "      <th>Avg. Area House Age</th>\n",
       "      <th>Avg. Area Number of Rooms</th>\n",
       "      <th>Avg. Area Number of Bedrooms</th>\n",
       "      <th>Area Population</th>\n",
       "      <th>Price</th>\n",
       "    </tr>\n",
       "  </thead>\n",
       "  <tbody>\n",
       "    <tr>\n",
       "      <th>count</th>\n",
       "      <td>5000.000000</td>\n",
       "      <td>5000.000000</td>\n",
       "      <td>5000.000000</td>\n",
       "      <td>5000.000000</td>\n",
       "      <td>5000.000000</td>\n",
       "      <td>5.000000e+03</td>\n",
       "    </tr>\n",
       "    <tr>\n",
       "      <th>mean</th>\n",
       "      <td>68583.108984</td>\n",
       "      <td>5.977222</td>\n",
       "      <td>6.987792</td>\n",
       "      <td>3.981330</td>\n",
       "      <td>36163.516039</td>\n",
       "      <td>1.232073e+06</td>\n",
       "    </tr>\n",
       "    <tr>\n",
       "      <th>std</th>\n",
       "      <td>10657.991214</td>\n",
       "      <td>0.991456</td>\n",
       "      <td>1.005833</td>\n",
       "      <td>1.234137</td>\n",
       "      <td>9925.650114</td>\n",
       "      <td>3.531176e+05</td>\n",
       "    </tr>\n",
       "    <tr>\n",
       "      <th>min</th>\n",
       "      <td>17796.631190</td>\n",
       "      <td>2.644304</td>\n",
       "      <td>3.236194</td>\n",
       "      <td>2.000000</td>\n",
       "      <td>172.610686</td>\n",
       "      <td>1.593866e+04</td>\n",
       "    </tr>\n",
       "    <tr>\n",
       "      <th>25%</th>\n",
       "      <td>61480.562388</td>\n",
       "      <td>5.322283</td>\n",
       "      <td>6.299250</td>\n",
       "      <td>3.140000</td>\n",
       "      <td>29403.928702</td>\n",
       "      <td>9.975771e+05</td>\n",
       "    </tr>\n",
       "    <tr>\n",
       "      <th>50%</th>\n",
       "      <td>68804.286404</td>\n",
       "      <td>5.970429</td>\n",
       "      <td>7.002902</td>\n",
       "      <td>4.050000</td>\n",
       "      <td>36199.406689</td>\n",
       "      <td>1.232669e+06</td>\n",
       "    </tr>\n",
       "    <tr>\n",
       "      <th>75%</th>\n",
       "      <td>75783.338666</td>\n",
       "      <td>6.650808</td>\n",
       "      <td>7.665871</td>\n",
       "      <td>4.490000</td>\n",
       "      <td>42861.290769</td>\n",
       "      <td>1.471210e+06</td>\n",
       "    </tr>\n",
       "    <tr>\n",
       "      <th>max</th>\n",
       "      <td>107701.748378</td>\n",
       "      <td>9.519088</td>\n",
       "      <td>10.759588</td>\n",
       "      <td>6.500000</td>\n",
       "      <td>69621.713378</td>\n",
       "      <td>2.469066e+06</td>\n",
       "    </tr>\n",
       "  </tbody>\n",
       "</table>\n",
       "</div>"
      ],
      "text/plain": [
       "       Avg. Area Income  Avg. Area House Age  Avg. Area Number of Rooms  \\\n",
       "count       5000.000000          5000.000000                5000.000000   \n",
       "mean       68583.108984             5.977222                   6.987792   \n",
       "std        10657.991214             0.991456                   1.005833   \n",
       "min        17796.631190             2.644304                   3.236194   \n",
       "25%        61480.562388             5.322283                   6.299250   \n",
       "50%        68804.286404             5.970429                   7.002902   \n",
       "75%        75783.338666             6.650808                   7.665871   \n",
       "max       107701.748378             9.519088                  10.759588   \n",
       "\n",
       "       Avg. Area Number of Bedrooms  Area Population         Price  \n",
       "count                   5000.000000      5000.000000  5.000000e+03  \n",
       "mean                       3.981330     36163.516039  1.232073e+06  \n",
       "std                        1.234137      9925.650114  3.531176e+05  \n",
       "min                        2.000000       172.610686  1.593866e+04  \n",
       "25%                        3.140000     29403.928702  9.975771e+05  \n",
       "50%                        4.050000     36199.406689  1.232669e+06  \n",
       "75%                        4.490000     42861.290769  1.471210e+06  \n",
       "max                        6.500000     69621.713378  2.469066e+06  "
      ]
     },
     "execution_count": 4,
     "metadata": {},
     "output_type": "execute_result"
    }
   ],
   "source": [
    "df.describe()"
   ]
  },
  {
   "cell_type": "code",
   "execution_count": 5,
   "id": "677b5598",
   "metadata": {},
   "outputs": [
    {
     "data": {
      "text/html": [
       "<style  type=\"text/css\" >\n",
       "#T_01c0f_row0_col0,#T_01c0f_row1_col1,#T_01c0f_row2_col2,#T_01c0f_row3_col3,#T_01c0f_row4_col4,#T_01c0f_row5_col5{\n",
       "            background-color:  #023858;\n",
       "            color:  #f1f1f1;\n",
       "        }#T_01c0f_row0_col1,#T_01c0f_row1_col0,#T_01c0f_row4_col2{\n",
       "            background-color:  #fdf5fa;\n",
       "            color:  #000000;\n",
       "        }#T_01c0f_row0_col2,#T_01c0f_row1_col2,#T_01c0f_row1_col4,#T_01c0f_row3_col4,#T_01c0f_row3_col5,#T_01c0f_row4_col0,#T_01c0f_row4_col1,#T_01c0f_row4_col3{\n",
       "            background-color:  #fff7fb;\n",
       "            color:  #000000;\n",
       "        }#T_01c0f_row0_col3{\n",
       "            background-color:  #f9f2f8;\n",
       "            color:  #000000;\n",
       "        }#T_01c0f_row0_col4,#T_01c0f_row2_col0{\n",
       "            background-color:  #fef6fb;\n",
       "            color:  #000000;\n",
       "        }#T_01c0f_row0_col5{\n",
       "            background-color:  #549cc7;\n",
       "            color:  #000000;\n",
       "        }#T_01c0f_row1_col3{\n",
       "            background-color:  #fbf3f9;\n",
       "            color:  #000000;\n",
       "        }#T_01c0f_row1_col5{\n",
       "            background-color:  #b3c3de;\n",
       "            color:  #000000;\n",
       "        }#T_01c0f_row2_col1{\n",
       "            background-color:  #fef6fa;\n",
       "            color:  #000000;\n",
       "        }#T_01c0f_row2_col3{\n",
       "            background-color:  #7eadd1;\n",
       "            color:  #000000;\n",
       "        }#T_01c0f_row2_col4,#T_01c0f_row3_col1{\n",
       "            background-color:  #fbf4f9;\n",
       "            color:  #000000;\n",
       "        }#T_01c0f_row2_col5{\n",
       "            background-color:  #dcdaeb;\n",
       "            color:  #000000;\n",
       "        }#T_01c0f_row3_col0{\n",
       "            background-color:  #faf2f8;\n",
       "            color:  #000000;\n",
       "        }#T_01c0f_row3_col2{\n",
       "            background-color:  #81aed2;\n",
       "            color:  #000000;\n",
       "        }#T_01c0f_row4_col5{\n",
       "            background-color:  #c4cbe3;\n",
       "            color:  #000000;\n",
       "        }#T_01c0f_row5_col0{\n",
       "            background-color:  #2d8abd;\n",
       "            color:  #000000;\n",
       "        }#T_01c0f_row5_col1{\n",
       "            background-color:  #83afd3;\n",
       "            color:  #000000;\n",
       "        }#T_01c0f_row5_col2{\n",
       "            background-color:  #b1c2de;\n",
       "            color:  #000000;\n",
       "        }#T_01c0f_row5_col3{\n",
       "            background-color:  #dedcec;\n",
       "            color:  #000000;\n",
       "        }#T_01c0f_row5_col4{\n",
       "            background-color:  #94b6d7;\n",
       "            color:  #000000;\n",
       "        }</style><table id=\"T_01c0f_\" ><thead>    <tr>        <th class=\"blank level0\" ></th>        <th class=\"col_heading level0 col0\" >Avg. Area Income</th>        <th class=\"col_heading level0 col1\" >Avg. Area House Age</th>        <th class=\"col_heading level0 col2\" >Avg. Area Number of Rooms</th>        <th class=\"col_heading level0 col3\" >Avg. Area Number of Bedrooms</th>        <th class=\"col_heading level0 col4\" >Area Population</th>        <th class=\"col_heading level0 col5\" >Price</th>    </tr></thead><tbody>\n",
       "                <tr>\n",
       "                        <th id=\"T_01c0f_level0_row0\" class=\"row_heading level0 row0\" >Avg. Area Income</th>\n",
       "                        <td id=\"T_01c0f_row0_col0\" class=\"data row0 col0\" >1.000000</td>\n",
       "                        <td id=\"T_01c0f_row0_col1\" class=\"data row0 col1\" >-0.002007</td>\n",
       "                        <td id=\"T_01c0f_row0_col2\" class=\"data row0 col2\" >-0.011032</td>\n",
       "                        <td id=\"T_01c0f_row0_col3\" class=\"data row0 col3\" >0.019788</td>\n",
       "                        <td id=\"T_01c0f_row0_col4\" class=\"data row0 col4\" >-0.016234</td>\n",
       "                        <td id=\"T_01c0f_row0_col5\" class=\"data row0 col5\" >0.639734</td>\n",
       "            </tr>\n",
       "            <tr>\n",
       "                        <th id=\"T_01c0f_level0_row1\" class=\"row_heading level0 row1\" >Avg. Area House Age</th>\n",
       "                        <td id=\"T_01c0f_row1_col0\" class=\"data row1 col0\" >-0.002007</td>\n",
       "                        <td id=\"T_01c0f_row1_col1\" class=\"data row1 col1\" >1.000000</td>\n",
       "                        <td id=\"T_01c0f_row1_col2\" class=\"data row1 col2\" >-0.009428</td>\n",
       "                        <td id=\"T_01c0f_row1_col3\" class=\"data row1 col3\" >0.006149</td>\n",
       "                        <td id=\"T_01c0f_row1_col4\" class=\"data row1 col4\" >-0.018743</td>\n",
       "                        <td id=\"T_01c0f_row1_col5\" class=\"data row1 col5\" >0.452543</td>\n",
       "            </tr>\n",
       "            <tr>\n",
       "                        <th id=\"T_01c0f_level0_row2\" class=\"row_heading level0 row2\" >Avg. Area Number of Rooms</th>\n",
       "                        <td id=\"T_01c0f_row2_col0\" class=\"data row2 col0\" >-0.011032</td>\n",
       "                        <td id=\"T_01c0f_row2_col1\" class=\"data row2 col1\" >-0.009428</td>\n",
       "                        <td id=\"T_01c0f_row2_col2\" class=\"data row2 col2\" >1.000000</td>\n",
       "                        <td id=\"T_01c0f_row2_col3\" class=\"data row2 col3\" >0.462695</td>\n",
       "                        <td id=\"T_01c0f_row2_col4\" class=\"data row2 col4\" >0.002040</td>\n",
       "                        <td id=\"T_01c0f_row2_col5\" class=\"data row2 col5\" >0.335664</td>\n",
       "            </tr>\n",
       "            <tr>\n",
       "                        <th id=\"T_01c0f_level0_row3\" class=\"row_heading level0 row3\" >Avg. Area Number of Bedrooms</th>\n",
       "                        <td id=\"T_01c0f_row3_col0\" class=\"data row3 col0\" >0.019788</td>\n",
       "                        <td id=\"T_01c0f_row3_col1\" class=\"data row3 col1\" >0.006149</td>\n",
       "                        <td id=\"T_01c0f_row3_col2\" class=\"data row3 col2\" >0.462695</td>\n",
       "                        <td id=\"T_01c0f_row3_col3\" class=\"data row3 col3\" >1.000000</td>\n",
       "                        <td id=\"T_01c0f_row3_col4\" class=\"data row3 col4\" >-0.022168</td>\n",
       "                        <td id=\"T_01c0f_row3_col5\" class=\"data row3 col5\" >0.171071</td>\n",
       "            </tr>\n",
       "            <tr>\n",
       "                        <th id=\"T_01c0f_level0_row4\" class=\"row_heading level0 row4\" >Area Population</th>\n",
       "                        <td id=\"T_01c0f_row4_col0\" class=\"data row4 col0\" >-0.016234</td>\n",
       "                        <td id=\"T_01c0f_row4_col1\" class=\"data row4 col1\" >-0.018743</td>\n",
       "                        <td id=\"T_01c0f_row4_col2\" class=\"data row4 col2\" >0.002040</td>\n",
       "                        <td id=\"T_01c0f_row4_col3\" class=\"data row4 col3\" >-0.022168</td>\n",
       "                        <td id=\"T_01c0f_row4_col4\" class=\"data row4 col4\" >1.000000</td>\n",
       "                        <td id=\"T_01c0f_row4_col5\" class=\"data row4 col5\" >0.408556</td>\n",
       "            </tr>\n",
       "            <tr>\n",
       "                        <th id=\"T_01c0f_level0_row5\" class=\"row_heading level0 row5\" >Price</th>\n",
       "                        <td id=\"T_01c0f_row5_col0\" class=\"data row5 col0\" >0.639734</td>\n",
       "                        <td id=\"T_01c0f_row5_col1\" class=\"data row5 col1\" >0.452543</td>\n",
       "                        <td id=\"T_01c0f_row5_col2\" class=\"data row5 col2\" >0.335664</td>\n",
       "                        <td id=\"T_01c0f_row5_col3\" class=\"data row5 col3\" >0.171071</td>\n",
       "                        <td id=\"T_01c0f_row5_col4\" class=\"data row5 col4\" >0.408556</td>\n",
       "                        <td id=\"T_01c0f_row5_col5\" class=\"data row5 col5\" >1.000000</td>\n",
       "            </tr>\n",
       "    </tbody></table>"
      ],
      "text/plain": [
       "<pandas.io.formats.style.Styler at 0x9719d45af0>"
      ]
     },
     "execution_count": 5,
     "metadata": {},
     "output_type": "execute_result"
    }
   ],
   "source": [
    "df.corr().style.background_gradient() # to check the correlation without using a heatmap"
   ]
  },
  {
   "cell_type": "code",
   "execution_count": 7,
   "id": "87bd008e",
   "metadata": {},
   "outputs": [
    {
     "data": {
      "text/plain": [
       "Avg. Area Number of Bedrooms    0.171071\n",
       "Avg. Area Number of Rooms       0.335664\n",
       "Area Population                 0.408556\n",
       "Avg. Area House Age             0.452543\n",
       "Avg. Area Income                0.639734\n",
       "Price                           1.000000\n",
       "Name: Price, dtype: float64"
      ]
     },
     "execution_count": 7,
     "metadata": {},
     "output_type": "execute_result"
    }
   ],
   "source": [
    "df.corr()[\"Price\"].sort_values()"
   ]
  },
  {
   "cell_type": "markdown",
   "id": "93503e24",
   "metadata": {},
   "source": [
    "- By using this method we can find the correlation of prices as compared to the Average no. of bedrooms, Area population etc."
   ]
  },
  {
   "cell_type": "markdown",
   "id": "d216119b",
   "metadata": {},
   "source": [
    "-Now by using iloc method we will divide the dataset into X(independent values) and Y(Dependent Values)"
   ]
  },
  {
   "cell_type": "markdown",
   "id": "e40e7d35",
   "metadata": {},
   "source": [
    "### Dividing Dataset into x and y"
   ]
  },
  {
   "cell_type": "code",
   "execution_count": 9,
   "id": "7c9a78f3",
   "metadata": {},
   "outputs": [],
   "source": [
    "x = df.iloc[:,:-2].values\n",
    "y = df.iloc[:,-2].values\n",
    "# using the values method we can convert the data into numpy array"
   ]
  },
  {
   "cell_type": "code",
   "execution_count": 10,
   "id": "41047da5",
   "metadata": {},
   "outputs": [
    {
     "data": {
      "text/plain": [
       "array([[7.95454586e+04, 5.68286132e+00, 7.00918814e+00, 4.09000000e+00,\n",
       "        2.30868005e+04],\n",
       "       [7.92486425e+04, 6.00289981e+00, 6.73082102e+00, 3.09000000e+00,\n",
       "        4.01730722e+04],\n",
       "       [6.12870672e+04, 5.86588984e+00, 8.51272743e+00, 5.13000000e+00,\n",
       "        3.68821594e+04],\n",
       "       ...,\n",
       "       [6.33906869e+04, 7.25059061e+00, 4.80508098e+00, 2.13000000e+00,\n",
       "        3.32661455e+04],\n",
       "       [6.80013312e+04, 5.53438842e+00, 7.13014386e+00, 5.44000000e+00,\n",
       "        4.26256202e+04],\n",
       "       [6.55105818e+04, 5.99230531e+00, 6.79233610e+00, 4.07000000e+00,\n",
       "        4.65012838e+04]])"
      ]
     },
     "execution_count": 10,
     "metadata": {},
     "output_type": "execute_result"
    }
   ],
   "source": [
    "x"
   ]
  },
  {
   "cell_type": "code",
   "execution_count": 11,
   "id": "f3d4255d",
   "metadata": {},
   "outputs": [
    {
     "data": {
      "text/plain": [
       "array([1059033.55787012, 1505890.91484695, 1058987.98787608, ...,\n",
       "       1030729.58315229, 1198656.87240769, 1298950.48026696])"
      ]
     },
     "execution_count": 11,
     "metadata": {},
     "output_type": "execute_result"
    }
   ],
   "source": [
    "y"
   ]
  },
  {
   "cell_type": "markdown",
   "id": "1096b980",
   "metadata": {},
   "source": [
    "### Creating the model (dividing training and testing set)"
   ]
  },
  {
   "cell_type": "code",
   "execution_count": 12,
   "id": "4d3c6656",
   "metadata": {},
   "outputs": [],
   "source": [
    "from sklearn.model_selection import train_test_split\n",
    "xtrain,xtest,ytrain,ytest=train_test_split(x,y, test_size= 0.2, random_state=1)"
   ]
  },
  {
   "cell_type": "markdown",
   "id": "38e260c0",
   "metadata": {},
   "source": [
    "### Performing Linear Regression by importing necessary Module"
   ]
  },
  {
   "cell_type": "code",
   "execution_count": 14,
   "id": "6ece36ba",
   "metadata": {},
   "outputs": [],
   "source": [
    "from sklearn.linear_model import LinearRegression\n",
    "linreg = LinearRegression()\n",
    "linreg.fit(xtrain,ytrain)\n",
    "ypred = linreg.predict(xtest)"
   ]
  },
  {
   "cell_type": "markdown",
   "id": "0a538240",
   "metadata": {},
   "source": [
    "### Displaying Intercept "
   ]
  },
  {
   "cell_type": "code",
   "execution_count": 17,
   "id": "0686fe4d",
   "metadata": {},
   "outputs": [
    {
     "data": {
      "text/plain": [
       "-2637185.6400765334"
      ]
     },
     "execution_count": 17,
     "metadata": {},
     "output_type": "execute_result"
    }
   ],
   "source": [
    "linreg.intercept_"
   ]
  },
  {
   "cell_type": "markdown",
   "id": "67191df6",
   "metadata": {},
   "source": [
    "### Displaying Coefficient"
   ]
  },
  {
   "cell_type": "code",
   "execution_count": 18,
   "id": "46c5f97d",
   "metadata": {},
   "outputs": [
    {
     "data": {
      "text/plain": [
       "array([2.16667346e+01, 1.64990052e+05, 1.20784238e+05, 1.54252468e+03,\n",
       "       1.51503697e+01])"
      ]
     },
     "execution_count": 18,
     "metadata": {},
     "output_type": "execute_result"
    }
   ],
   "source": [
    "linreg.coef_"
   ]
  },
  {
   "cell_type": "markdown",
   "id": "22a19f03",
   "metadata": {},
   "source": [
    "#### To interpret the Coefficient more easily we need to convert this data into a Dataframe"
   ]
  },
  {
   "cell_type": "code",
   "execution_count": 20,
   "id": "71097e1a",
   "metadata": {},
   "outputs": [],
   "source": [
    "x = df.iloc[:,:-2]\n",
    "y = df.iloc[:,-2]"
   ]
  },
  {
   "cell_type": "code",
   "execution_count": 21,
   "id": "031f512a",
   "metadata": {},
   "outputs": [
    {
     "data": {
      "text/html": [
       "<div>\n",
       "<style scoped>\n",
       "    .dataframe tbody tr th:only-of-type {\n",
       "        vertical-align: middle;\n",
       "    }\n",
       "\n",
       "    .dataframe tbody tr th {\n",
       "        vertical-align: top;\n",
       "    }\n",
       "\n",
       "    .dataframe thead th {\n",
       "        text-align: right;\n",
       "    }\n",
       "</style>\n",
       "<table border=\"1\" class=\"dataframe\">\n",
       "  <thead>\n",
       "    <tr style=\"text-align: right;\">\n",
       "      <th></th>\n",
       "      <th>Coefficient</th>\n",
       "    </tr>\n",
       "  </thead>\n",
       "  <tbody>\n",
       "    <tr>\n",
       "      <th>Avg. Area Income</th>\n",
       "      <td>21.666735</td>\n",
       "    </tr>\n",
       "    <tr>\n",
       "      <th>Avg. Area House Age</th>\n",
       "      <td>164990.051829</td>\n",
       "    </tr>\n",
       "    <tr>\n",
       "      <th>Avg. Area Number of Rooms</th>\n",
       "      <td>120784.238317</td>\n",
       "    </tr>\n",
       "    <tr>\n",
       "      <th>Avg. Area Number of Bedrooms</th>\n",
       "      <td>1542.524676</td>\n",
       "    </tr>\n",
       "    <tr>\n",
       "      <th>Area Population</th>\n",
       "      <td>15.150370</td>\n",
       "    </tr>\n",
       "  </tbody>\n",
       "</table>\n",
       "</div>"
      ],
      "text/plain": [
       "                                Coefficient\n",
       "Avg. Area Income                  21.666735\n",
       "Avg. Area House Age           164990.051829\n",
       "Avg. Area Number of Rooms     120784.238317\n",
       "Avg. Area Number of Bedrooms    1542.524676\n",
       "Area Population                   15.150370"
      ]
     },
     "execution_count": 21,
     "metadata": {},
     "output_type": "execute_result"
    }
   ],
   "source": [
    "coef_df = pd.DataFrame(linreg.coef_,x.columns, columns = [\"Coefficient\"])\n",
    "coef_df"
   ]
  },
  {
   "cell_type": "markdown",
   "id": "2c48943a",
   "metadata": {},
   "source": [
    "### Now, interpreting the coefficient has become much more easier!!"
   ]
  },
  {
   "cell_type": "markdown",
   "id": "726b4b6e",
   "metadata": {},
   "source": [
    "- for every unit growth in Average Area income, we estimate that the price will increase upto $21.66\n",
    "\n",
    "- for every unit growth in Average area House age, we estimate that the price will increase upto      $164990.05\n",
    "\n",
    "- for every unit growth in Average area no. of rooms, we estimate that the price will increase   upto $120784.23 \n",
    "\n",
    "- for every unit growth in Average area no. of bedrooms, we estimate that the price will increase   upto $1542.52 \n",
    "\n",
    "- for every unit growth in Area population, we estimate that the price will increase upto $15.150"
   ]
  },
  {
   "cell_type": "markdown",
   "id": "9a93cae1",
   "metadata": {},
   "source": [
    "#### Visualising the Data after training and testing"
   ]
  },
  {
   "cell_type": "code",
   "execution_count": 23,
   "id": "8c5ee310",
   "metadata": {},
   "outputs": [
    {
     "data": {
      "text/plain": [
       "<matplotlib.collections.PathCollection at 0x971b927190>"
      ]
     },
     "execution_count": 23,
     "metadata": {},
     "output_type": "execute_result"
    },
    {
     "data": {
      "image/png": "[encoded data removed]",
      "text/plain": [
       "<Figure size 432x288 with 1 Axes>"
      ]
     },
     "metadata": {
      "needs_background": "light"
     },
     "output_type": "display_data"
    }
   ],
   "source": [
    "plt.scatter(ytest,ypred)"
   ]
  },
  {
   "cell_type": "code",
   "execution_count": 26,
   "id": "7bcc2241",
   "metadata": {},
   "outputs": [
    {
     "data": {
      "text/plain": [
       "<AxesSubplot:ylabel='Density'>"
      ]
     },
     "execution_count": 26,
     "metadata": {},
     "output_type": "execute_result"
    },
    {
     "data": {
      "image/png": "[encoded data removed]",
      "text/plain": [
       "<Figure size 432x288 with 1 Axes>"
      ]
     },
     "metadata": {
      "needs_background": "light"
     },
     "output_type": "display_data"
    }
   ],
   "source": [
    "sns.distplot((ytest-ypred), bins = 50) "
   ]
  },
  {
   "cell_type": "markdown",
   "id": "ca913de6",
   "metadata": {},
   "source": [
    "#### Displaying evaluation Metrics"
   ]
  },
  {
   "cell_type": "markdown",
   "id": "c18e43e7",
   "metadata": {},
   "source": [
    "- It is used to evaluate the the performance and the accuracy of the model \n",
    "\n"
   ]
  },
  {
   "cell_type": "markdown",
   "id": "c7ec0b1e",
   "metadata": {},
   "source": [
    "- we need to import some modules for evaluation"
   ]
  },
  {
   "cell_type": "code",
   "execution_count": 28,
   "id": "354e9d7f",
   "metadata": {},
   "outputs": [],
   "source": [
    "from sklearn.metrics import mean_absolute_error, mean_squared_error,r2_score "
   ]
  },
  {
   "cell_type": "markdown",
   "id": "1f7c4152",
   "metadata": {},
   "source": [
    "- MAE or Mean Absolute error represents the average of the absolute difference between the actual values and the predicted values in the given Dataset"
   ]
  },
  {
   "cell_type": "code",
   "execution_count": 34,
   "id": "182dbb35",
   "metadata": {},
   "outputs": [
    {
     "name": "stdout",
     "output_type": "stream",
     "text": [
      "MeanAbsoluteError :-  82494.73770124864\n"
     ]
    }
   ],
   "source": [
    "print(f\"MeanAbsoluteError :-  {mean_absolute_error(ytest,ypred)}\")"
   ]
  },
  {
   "cell_type": "markdown",
   "id": "568f5c78",
   "metadata": {},
   "source": [
    "- Mean Squared Error or MSE represents the average of the squared difeerence between the actual and the predicted values in the given Dataset"
   ]
  },
  {
   "cell_type": "code",
   "execution_count": 35,
   "id": "52834c94",
   "metadata": {},
   "outputs": [
    {
     "name": "stdout",
     "output_type": "stream",
     "text": [
      "MeanSquaredError :-  10543597313.62453\n"
     ]
    }
   ],
   "source": [
    "print(f\"MeanSquaredError :-  {mean_squared_error(ytest,ypred)}\")"
   ]
  },
  {
   "cell_type": "markdown",
   "id": "872b3df2",
   "metadata": {},
   "source": [
    "- Root Mean Squared Error or RMSE represents the squareroot Mean Squared Error. It measures the Standard Deviation of the residuals"
   ]
  },
  {
   "cell_type": "code",
   "execution_count": 36,
   "id": "e3828852",
   "metadata": {},
   "outputs": [
    {
     "name": "stdout",
     "output_type": "stream",
     "text": [
      "RootMeanSquaredError :-  102682.02040096665\n"
     ]
    }
   ],
   "source": [
    "print(f\"RootMeanSquaredError :-  {np.sqrt(mean_squared_error(ytest,ypred))}\")"
   ]
  },
  {
   "cell_type": "markdown",
   "id": "235fa1cf",
   "metadata": {},
   "source": [
    "- r2_score helps to determine the accuracy of the model"
   ]
  },
  {
   "cell_type": "code",
   "execution_count": 37,
   "id": "82db43be",
   "metadata": {},
   "outputs": [
    {
     "name": "stdout",
     "output_type": "stream",
     "text": [
      "rSquared :-  0.9215935236936377\n"
     ]
    }
   ],
   "source": [
    "print(f\"rSquared :-  {(r2_score(ytest,ypred))}\")"
   ]
  },
  {
   "cell_type": "markdown",
   "id": "90476125",
   "metadata": {},
   "source": [
    "### CONCLUSION"
   ]
  },
  {
   "cell_type": "markdown",
   "id": "5333bf5a",
   "metadata": {},
   "source": [
    "- After evaluating this Dataset we can say that this model is 92% accurate and can be used for future predictions\n",
    "- All the evaluation metrics has been displayed in the above Dataset"
   ]
  },
  {
   "cell_type": "code",
   "execution_count": null,
   "id": "df2dfd6c",
   "metadata": {},
   "outputs": [],
   "source": []
  }
 ],
 "metadata": {
  "kernelspec": {
   "display_name": "Python 3",
   "language": "python",
   "name": "python3"
  },
  "language_info": {
   "codemirror_mode": {
    "name": "ipython",
    "version": 3
   },
   "file_extension": ".py",
   "mimetype": "text/x-python",
   "name": "python",
   "nbconvert_exporter": "python",
   "pygments_lexer": "ipython3",
   "version": "3.8.8"
  }
 },
 "nbformat": 4,
 "nbformat_minor": 5
}
